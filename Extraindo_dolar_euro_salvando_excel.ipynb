{
 "cells": [
  {
   "cell_type": "code",
   "execution_count": 13,
   "id": "a843c9fd",
   "metadata": {},
   "outputs": [
    {
     "name": "stdout",
     "output_type": "stream",
     "text": [
      "O valor do Dolar hoje é de 5,06\n",
      "O valor do Euro hoje é de 5,01\n",
      "\n",
      "Fim do programa!\n"
     ]
    }
   ],
   "source": [
    "from selenium import webdriver as navegador\n",
    "from selenium.webdriver.common.keys import Keys\n",
    "from selenium.webdriver.common.by import By\n",
    "import pyautogui as py\n",
    "import xlsxwriter as excel\n",
    "import os\n",
    "\n",
    "meuNavegador = navegador.Chrome()\n",
    "meuNavegador.get(\"https://www.google.com.br/\")\n",
    "\n",
    "py.sleep(1.5)\n",
    "\n",
    "meuNavegador.find_element(By.NAME, \"q\").send_keys(\"Dolar Hoje\")\n",
    "py.sleep(1.5)\n",
    "py.press(\"enter\")\n",
    "py.sleep(1.5)\n",
    "\n",
    "dolarHoje = meuNavegador.find_elements(By.XPATH, '//*[@id=\"knowledge-currency__updatable-data-column\"]/div[1]/div[2]/span[1]')[0].text\n",
    "py.sleep(1.5)\n",
    "print(f\"O valor do Dolar hoje é de {dolarHoje}\")\n",
    "\n",
    "py.sleep(1.5)\n",
    "\n",
    "meuNavegador.find_element(By.NAME, \"q\").send_keys(\"\")\n",
    "py.sleep(0.5)\n",
    "py.press('tab')\n",
    "py.press('enter')\n",
    "\n",
    "py.sleep(0.5)\n",
    "meuNavegador.find_element(By.NAME, \"q\").send_keys(\"Euro Hoje\")\n",
    "py.sleep(1.5)\n",
    "py.press('enter')\n",
    "py.sleep(1.5)\n",
    "\n",
    "euroHoje = meuNavegador.find_elements(By.XPATH, '//*[@id=\"knowledge-currency__updatable-data-column\"]/div[1]/div[2]/span[1]')[0].text\n",
    "py.sleep(1.5)\n",
    "print(f\"O valor do Euro hoje é de {euroHoje}\")\n",
    "\n",
    "#-------------------------------------------------------------------------------------------------------------------------\n",
    "\n",
    "caminhoArquivo = \"C:\\\\Users\\\\Gustavo Ferrete\\\\OneDrive\\\\Área de Trabalho\\\\Projeto Jupyter\\\\Extraindo Valor do Dolar e Euro e Salvando no Excel\\\\Escrevendo o valor do Dolar e Euro no Excel.xlsx\"\n",
    "planilhaCriada = excel.Workbook(caminhoArquivo)\n",
    "planilha1 = planilhaCriada.add_worksheet()\n",
    "\n",
    "planilha1.write(\"A1\", \"Dolar\")\n",
    "planilha1.write(\"B1\", \"Euro\")\n",
    "planilha1.write(\"A2\", dolarHoje)\n",
    "planilha1.write(\"B2\", euroHoje)\n",
    "\n",
    "planilhaCriada.close()\n",
    "os.startfile(caminhoArquivo)\n",
    "\n",
    "print(\"\\nFim do programa!\")"
   ]
  },
  {
   "cell_type": "code",
   "execution_count": null,
   "id": "4a1d1d33",
   "metadata": {},
   "outputs": [],
   "source": []
  }
 ],
 "metadata": {
  "kernelspec": {
   "display_name": "Python 3 (ipykernel)",
   "language": "python",
   "name": "python3"
  },
  "language_info": {
   "codemirror_mode": {
    "name": "ipython",
    "version": 3
   },
   "file_extension": ".py",
   "mimetype": "text/x-python",
   "name": "python",
   "nbconvert_exporter": "python",
   "pygments_lexer": "ipython3",
   "version": "3.9.12"
  }
 },
 "nbformat": 4,
 "nbformat_minor": 5
}
